{
 "cells": [
  {
   "cell_type": "markdown",
   "id": "8b524aa6",
   "metadata": {},
   "source": [
    "## Importing the Dependencies"
   ]
  },
  {
   "cell_type": "code",
   "execution_count": 2,
   "id": "f5559748",
   "metadata": {},
   "outputs": [],
   "source": [
    "import numpy as np\n",
    "import pandas as pd\n",
    "import matplotlib.pyplot as plt\n",
    "import seaborn as sns\n",
    "from sklearn.model_selection import train_test_split\n",
    "from sklearn.ensemble import RandomForestClassifier\n",
    "from sklearn.metrics import accuracy_score"
   ]
  },
  {
   "cell_type": "markdown",
   "id": "1b09dc3f",
   "metadata": {},
   "source": [
    "## Data Collection"
   ]
  },
  {
   "cell_type": "code",
   "execution_count": 4,
   "id": "2941219e",
   "metadata": {},
   "outputs": [],
   "source": [
    "#loading the dataset to a pandas dataframe\n",
    "wine_dataset = pd.read_csv(\"Z:/Corizo/Major Project-1/1613779-Red_wine_.csv\")"
   ]
  },
  {
   "cell_type": "code",
   "execution_count": 5,
   "id": "9533f020",
   "metadata": {},
   "outputs": [
    {
     "data": {
      "text/plain": [
       "(1599, 12)"
      ]
     },
     "execution_count": 5,
     "metadata": {},
     "output_type": "execute_result"
    }
   ],
   "source": [
    "#number of rows and columns in dataset\n",
    "wine_dataset.shape"
   ]
  },
  {
   "cell_type": "code",
   "execution_count": 6,
   "id": "1a1287f2",
   "metadata": {},
   "outputs": [
    {
     "data": {
      "text/html": [
       "<div>\n",
       "<style scoped>\n",
       "    .dataframe tbody tr th:only-of-type {\n",
       "        vertical-align: middle;\n",
       "    }\n",
       "\n",
       "    .dataframe tbody tr th {\n",
       "        vertical-align: top;\n",
       "    }\n",
       "\n",
       "    .dataframe thead th {\n",
       "        text-align: right;\n",
       "    }\n",
       "</style>\n",
       "<table border=\"1\" class=\"dataframe\">\n",
       "  <thead>\n",
       "    <tr style=\"text-align: right;\">\n",
       "      <th></th>\n",
       "      <th>fixed acidity</th>\n",
       "      <th>volatile acidity</th>\n",
       "      <th>citric acid</th>\n",
       "      <th>residual sugar</th>\n",
       "      <th>chlorides</th>\n",
       "      <th>free sulfur dioxide</th>\n",
       "      <th>total sulfur dioxide</th>\n",
       "      <th>density</th>\n",
       "      <th>pH</th>\n",
       "      <th>sulphates</th>\n",
       "      <th>alcohol</th>\n",
       "      <th>quality</th>\n",
       "    </tr>\n",
       "  </thead>\n",
       "  <tbody>\n",
       "    <tr>\n",
       "      <th>0</th>\n",
       "      <td>7.4</td>\n",
       "      <td>0.70</td>\n",
       "      <td>0.00</td>\n",
       "      <td>1.9</td>\n",
       "      <td>0.076</td>\n",
       "      <td>11.0</td>\n",
       "      <td>34.0</td>\n",
       "      <td>0.9978</td>\n",
       "      <td>3.51</td>\n",
       "      <td>0.56</td>\n",
       "      <td>9.4</td>\n",
       "      <td>5.0</td>\n",
       "    </tr>\n",
       "    <tr>\n",
       "      <th>1</th>\n",
       "      <td>7.8</td>\n",
       "      <td>0.88</td>\n",
       "      <td>0.00</td>\n",
       "      <td>2.6</td>\n",
       "      <td>0.098</td>\n",
       "      <td>25.0</td>\n",
       "      <td>67.0</td>\n",
       "      <td>0.9968</td>\n",
       "      <td>3.20</td>\n",
       "      <td>0.68</td>\n",
       "      <td>9.8</td>\n",
       "      <td>5.0</td>\n",
       "    </tr>\n",
       "    <tr>\n",
       "      <th>2</th>\n",
       "      <td>7.8</td>\n",
       "      <td>0.76</td>\n",
       "      <td>0.04</td>\n",
       "      <td>2.3</td>\n",
       "      <td>0.092</td>\n",
       "      <td>15.0</td>\n",
       "      <td>54.0</td>\n",
       "      <td>0.9970</td>\n",
       "      <td>3.26</td>\n",
       "      <td>0.65</td>\n",
       "      <td>9.8</td>\n",
       "      <td>5.0</td>\n",
       "    </tr>\n",
       "    <tr>\n",
       "      <th>3</th>\n",
       "      <td>11.2</td>\n",
       "      <td>0.28</td>\n",
       "      <td>0.56</td>\n",
       "      <td>1.9</td>\n",
       "      <td>0.075</td>\n",
       "      <td>17.0</td>\n",
       "      <td>60.0</td>\n",
       "      <td>0.9980</td>\n",
       "      <td>3.16</td>\n",
       "      <td>0.58</td>\n",
       "      <td>9.8</td>\n",
       "      <td>6.0</td>\n",
       "    </tr>\n",
       "    <tr>\n",
       "      <th>4</th>\n",
       "      <td>7.4</td>\n",
       "      <td>0.70</td>\n",
       "      <td>0.00</td>\n",
       "      <td>1.9</td>\n",
       "      <td>0.076</td>\n",
       "      <td>11.0</td>\n",
       "      <td>34.0</td>\n",
       "      <td>0.9978</td>\n",
       "      <td>3.51</td>\n",
       "      <td>0.56</td>\n",
       "      <td>9.4</td>\n",
       "      <td>5.0</td>\n",
       "    </tr>\n",
       "  </tbody>\n",
       "</table>\n",
       "</div>"
      ],
      "text/plain": [
       "   fixed acidity  volatile acidity  citric acid  residual sugar  chlorides  \\\n",
       "0            7.4              0.70         0.00             1.9      0.076   \n",
       "1            7.8              0.88         0.00             2.6      0.098   \n",
       "2            7.8              0.76         0.04             2.3      0.092   \n",
       "3           11.2              0.28         0.56             1.9      0.075   \n",
       "4            7.4              0.70         0.00             1.9      0.076   \n",
       "\n",
       "   free sulfur dioxide  total sulfur dioxide  density    pH  sulphates  \\\n",
       "0                 11.0                  34.0   0.9978  3.51       0.56   \n",
       "1                 25.0                  67.0   0.9968  3.20       0.68   \n",
       "2                 15.0                  54.0   0.9970  3.26       0.65   \n",
       "3                 17.0                  60.0   0.9980  3.16       0.58   \n",
       "4                 11.0                  34.0   0.9978  3.51       0.56   \n",
       "\n",
       "   alcohol  quality  \n",
       "0      9.4      5.0  \n",
       "1      9.8      5.0  \n",
       "2      9.8      5.0  \n",
       "3      9.8      6.0  \n",
       "4      9.4      5.0  "
      ]
     },
     "execution_count": 6,
     "metadata": {},
     "output_type": "execute_result"
    }
   ],
   "source": [
    "#first 5 rows of the dataframe\n",
    "wine_dataset.head()"
   ]
  },
  {
   "cell_type": "code",
   "execution_count": 8,
   "id": "5a68105d",
   "metadata": {},
   "outputs": [
    {
     "data": {
      "text/plain": [
       "fixed acidity           0\n",
       "volatile acidity        0\n",
       "citric acid             0\n",
       "residual sugar          0\n",
       "chlorides               0\n",
       "free sulfur dioxide     0\n",
       "total sulfur dioxide    1\n",
       "density                 0\n",
       "pH                      1\n",
       "sulphates               0\n",
       "alcohol                 0\n",
       "quality                 1\n",
       "dtype: int64"
      ]
     },
     "execution_count": 8,
     "metadata": {},
     "output_type": "execute_result"
    }
   ],
   "source": [
    "#checking for missing values\n",
    "wine_dataset.isnull().sum()"
   ]
  },
  {
   "cell_type": "code",
   "execution_count": 31,
   "id": "7c957ab4",
   "metadata": {},
   "outputs": [],
   "source": [
    "#Dropping the mising values\n",
    "wine_dataset = wine_dataset.dropna()"
   ]
  },
  {
   "cell_type": "markdown",
   "id": "473f6a2b",
   "metadata": {},
   "source": [
    "## Data Analysis and Visualization"
   ]
  },
  {
   "cell_type": "code",
   "execution_count": 32,
   "id": "055c1532",
   "metadata": {},
   "outputs": [
    {
     "data": {
      "text/html": [
       "<div>\n",
       "<style scoped>\n",
       "    .dataframe tbody tr th:only-of-type {\n",
       "        vertical-align: middle;\n",
       "    }\n",
       "\n",
       "    .dataframe tbody tr th {\n",
       "        vertical-align: top;\n",
       "    }\n",
       "\n",
       "    .dataframe thead th {\n",
       "        text-align: right;\n",
       "    }\n",
       "</style>\n",
       "<table border=\"1\" class=\"dataframe\">\n",
       "  <thead>\n",
       "    <tr style=\"text-align: right;\">\n",
       "      <th></th>\n",
       "      <th>fixed acidity</th>\n",
       "      <th>volatile acidity</th>\n",
       "      <th>citric acid</th>\n",
       "      <th>residual sugar</th>\n",
       "      <th>chlorides</th>\n",
       "      <th>free sulfur dioxide</th>\n",
       "      <th>total sulfur dioxide</th>\n",
       "      <th>density</th>\n",
       "      <th>pH</th>\n",
       "      <th>sulphates</th>\n",
       "      <th>alcohol</th>\n",
       "      <th>quality</th>\n",
       "    </tr>\n",
       "  </thead>\n",
       "  <tbody>\n",
       "    <tr>\n",
       "      <th>count</th>\n",
       "      <td>1596.000000</td>\n",
       "      <td>1596.000000</td>\n",
       "      <td>1596.000000</td>\n",
       "      <td>1596.000000</td>\n",
       "      <td>1596.000000</td>\n",
       "      <td>1596.000000</td>\n",
       "      <td>1596.000000</td>\n",
       "      <td>1596.000000</td>\n",
       "      <td>1596.000000</td>\n",
       "      <td>1596.000000</td>\n",
       "      <td>1596.000000</td>\n",
       "      <td>1596.000000</td>\n",
       "    </tr>\n",
       "    <tr>\n",
       "      <th>mean</th>\n",
       "      <td>8.321366</td>\n",
       "      <td>0.527666</td>\n",
       "      <td>0.271128</td>\n",
       "      <td>2.536936</td>\n",
       "      <td>0.087487</td>\n",
       "      <td>15.882206</td>\n",
       "      <td>46.431078</td>\n",
       "      <td>0.996745</td>\n",
       "      <td>3.498716</td>\n",
       "      <td>0.658189</td>\n",
       "      <td>10.424217</td>\n",
       "      <td>5.636591</td>\n",
       "    </tr>\n",
       "    <tr>\n",
       "      <th>std</th>\n",
       "      <td>1.742121</td>\n",
       "      <td>0.179154</td>\n",
       "      <td>0.194847</td>\n",
       "      <td>1.408341</td>\n",
       "      <td>0.047107</td>\n",
       "      <td>10.467380</td>\n",
       "      <td>32.893072</td>\n",
       "      <td>0.001889</td>\n",
       "      <td>0.080297</td>\n",
       "      <td>0.169587</td>\n",
       "      <td>1.066046</td>\n",
       "      <td>0.807963</td>\n",
       "    </tr>\n",
       "    <tr>\n",
       "      <th>min</th>\n",
       "      <td>4.600000</td>\n",
       "      <td>0.120000</td>\n",
       "      <td>0.000000</td>\n",
       "      <td>0.900000</td>\n",
       "      <td>0.012000</td>\n",
       "      <td>1.000000</td>\n",
       "      <td>6.000000</td>\n",
       "      <td>0.990070</td>\n",
       "      <td>2.740000</td>\n",
       "      <td>0.330000</td>\n",
       "      <td>8.400000</td>\n",
       "      <td>3.000000</td>\n",
       "    </tr>\n",
       "    <tr>\n",
       "      <th>25%</th>\n",
       "      <td>7.100000</td>\n",
       "      <td>0.390000</td>\n",
       "      <td>0.090000</td>\n",
       "      <td>1.900000</td>\n",
       "      <td>0.070000</td>\n",
       "      <td>7.000000</td>\n",
       "      <td>22.000000</td>\n",
       "      <td>0.995600</td>\n",
       "      <td>3.520000</td>\n",
       "      <td>0.550000</td>\n",
       "      <td>9.500000</td>\n",
       "      <td>5.000000</td>\n",
       "    </tr>\n",
       "    <tr>\n",
       "      <th>50%</th>\n",
       "      <td>7.900000</td>\n",
       "      <td>0.520000</td>\n",
       "      <td>0.260000</td>\n",
       "      <td>2.200000</td>\n",
       "      <td>0.079000</td>\n",
       "      <td>14.000000</td>\n",
       "      <td>38.000000</td>\n",
       "      <td>0.996745</td>\n",
       "      <td>3.520000</td>\n",
       "      <td>0.620000</td>\n",
       "      <td>10.200000</td>\n",
       "      <td>6.000000</td>\n",
       "    </tr>\n",
       "    <tr>\n",
       "      <th>75%</th>\n",
       "      <td>9.200000</td>\n",
       "      <td>0.640000</td>\n",
       "      <td>0.420000</td>\n",
       "      <td>2.600000</td>\n",
       "      <td>0.090000</td>\n",
       "      <td>21.000000</td>\n",
       "      <td>62.000000</td>\n",
       "      <td>0.997842</td>\n",
       "      <td>3.520000</td>\n",
       "      <td>0.730000</td>\n",
       "      <td>11.100000</td>\n",
       "      <td>6.000000</td>\n",
       "    </tr>\n",
       "    <tr>\n",
       "      <th>max</th>\n",
       "      <td>15.900000</td>\n",
       "      <td>1.580000</td>\n",
       "      <td>1.000000</td>\n",
       "      <td>15.500000</td>\n",
       "      <td>0.611000</td>\n",
       "      <td>72.000000</td>\n",
       "      <td>289.000000</td>\n",
       "      <td>1.003690</td>\n",
       "      <td>3.900000</td>\n",
       "      <td>2.000000</td>\n",
       "      <td>14.900000</td>\n",
       "      <td>8.000000</td>\n",
       "    </tr>\n",
       "  </tbody>\n",
       "</table>\n",
       "</div>"
      ],
      "text/plain": [
       "       fixed acidity  volatile acidity  citric acid  residual sugar  \\\n",
       "count    1596.000000       1596.000000  1596.000000     1596.000000   \n",
       "mean        8.321366          0.527666     0.271128        2.536936   \n",
       "std         1.742121          0.179154     0.194847        1.408341   \n",
       "min         4.600000          0.120000     0.000000        0.900000   \n",
       "25%         7.100000          0.390000     0.090000        1.900000   \n",
       "50%         7.900000          0.520000     0.260000        2.200000   \n",
       "75%         9.200000          0.640000     0.420000        2.600000   \n",
       "max        15.900000          1.580000     1.000000       15.500000   \n",
       "\n",
       "         chlorides  free sulfur dioxide  total sulfur dioxide      density  \\\n",
       "count  1596.000000          1596.000000           1596.000000  1596.000000   \n",
       "mean      0.087487            15.882206             46.431078     0.996745   \n",
       "std       0.047107            10.467380             32.893072     0.001889   \n",
       "min       0.012000             1.000000              6.000000     0.990070   \n",
       "25%       0.070000             7.000000             22.000000     0.995600   \n",
       "50%       0.079000            14.000000             38.000000     0.996745   \n",
       "75%       0.090000            21.000000             62.000000     0.997842   \n",
       "max       0.611000            72.000000            289.000000     1.003690   \n",
       "\n",
       "                pH    sulphates      alcohol      quality  \n",
       "count  1596.000000  1596.000000  1596.000000  1596.000000  \n",
       "mean      3.498716     0.658189    10.424217     5.636591  \n",
       "std       0.080297     0.169587     1.066046     0.807963  \n",
       "min       2.740000     0.330000     8.400000     3.000000  \n",
       "25%       3.520000     0.550000     9.500000     5.000000  \n",
       "50%       3.520000     0.620000    10.200000     6.000000  \n",
       "75%       3.520000     0.730000    11.100000     6.000000  \n",
       "max       3.900000     2.000000    14.900000     8.000000  "
      ]
     },
     "execution_count": 32,
     "metadata": {},
     "output_type": "execute_result"
    }
   ],
   "source": [
    " wine_dataset.describe()"
   ]
  },
  {
   "cell_type": "code",
   "execution_count": 33,
   "id": "adb94c74",
   "metadata": {},
   "outputs": [
    {
     "data": {
      "text/plain": [
       "<seaborn.axisgrid.FacetGrid at 0x204c55f2580>"
      ]
     },
     "execution_count": 33,
     "metadata": {},
     "output_type": "execute_result"
    },
    {
     "data": {
      "image/png": "[encoded data removed]",
      "text/plain": [
       "<Figure size 360x360 with 1 Axes>"
      ]
     },
     "metadata": {
      "needs_background": "light"
     },
     "output_type": "display_data"
    }
   ],
   "source": [
    "#number of values for each quality state\n",
    "sns.catplot(x = 'quality', data = wine_dataset, kind = 'count')"
   ]
  },
  {
   "cell_type": "code",
   "execution_count": 34,
   "id": "30fa6ab4",
   "metadata": {},
   "outputs": [
    {
     "data": {
      "text/plain": [
       "<AxesSubplot:xlabel='quality', ylabel='volatile acidity'>"
      ]
     },
     "execution_count": 34,
     "metadata": {},
     "output_type": "execute_result"
    },
    {
     "data": {
      "image/png": "[encoded data removed]",
      "text/plain": [
       "<Figure size 504x504 with 1 Axes>"
      ]
     },
     "metadata": {
      "needs_background": "light"
     },
     "output_type": "display_data"
    }
   ],
   "source": [
    "#volatile acidity vs quality\n",
    "plot = plt.figure(figsize=(7,7))\n",
    "sns.barplot(x = 'quality', y = 'volatile acidity', data= wine_dataset)"
   ]
  },
  {
   "cell_type": "code",
   "execution_count": 35,
   "id": "0ba0a1bd",
   "metadata": {},
   "outputs": [
    {
     "data": {
      "text/plain": [
       "<AxesSubplot:xlabel='quality', ylabel='citric acid'>"
      ]
     },
     "execution_count": 35,
     "metadata": {},
     "output_type": "execute_result"
    },
    {
     "data": {
      "image/png": "[encoded data removed]",
      "text/plain": [
       "<Figure size 504x504 with 1 Axes>"
      ]
     },
     "metadata": {
      "needs_background": "light"
     },
     "output_type": "display_data"
    }
   ],
   "source": [
    "#citric acid vs quality\n",
    "plot = plt.figure(figsize=(7,7))\n",
    "sns.barplot(x = 'quality', y = 'citric acid', data= wine_dataset)"
   ]
  },
  {
   "cell_type": "markdown",
   "id": "72750800",
   "metadata": {},
   "source": [
    "### Correlation between features and response"
   ]
  },
  {
   "cell_type": "code",
   "execution_count": 36,
   "id": "69637ff5",
   "metadata": {},
   "outputs": [
    {
     "data": {
      "text/html": [
       "<div>\n",
       "<style scoped>\n",
       "    .dataframe tbody tr th:only-of-type {\n",
       "        vertical-align: middle;\n",
       "    }\n",
       "\n",
       "    .dataframe tbody tr th {\n",
       "        vertical-align: top;\n",
       "    }\n",
       "\n",
       "    .dataframe thead th {\n",
       "        text-align: right;\n",
       "    }\n",
       "</style>\n",
       "<table border=\"1\" class=\"dataframe\">\n",
       "  <thead>\n",
       "    <tr style=\"text-align: right;\">\n",
       "      <th></th>\n",
       "      <th>fixed acidity</th>\n",
       "      <th>volatile acidity</th>\n",
       "      <th>citric acid</th>\n",
       "      <th>residual sugar</th>\n",
       "      <th>chlorides</th>\n",
       "      <th>free sulfur dioxide</th>\n",
       "      <th>total sulfur dioxide</th>\n",
       "      <th>density</th>\n",
       "      <th>pH</th>\n",
       "      <th>sulphates</th>\n",
       "      <th>alcohol</th>\n",
       "      <th>quality</th>\n",
       "    </tr>\n",
       "  </thead>\n",
       "  <tbody>\n",
       "    <tr>\n",
       "      <th>fixed acidity</th>\n",
       "      <td>1.000000</td>\n",
       "      <td>-0.255955</td>\n",
       "      <td>0.672203</td>\n",
       "      <td>0.115542</td>\n",
       "      <td>0.093517</td>\n",
       "      <td>-0.154348</td>\n",
       "      <td>-0.112605</td>\n",
       "      <td>0.668689</td>\n",
       "      <td>0.026958</td>\n",
       "      <td>0.183046</td>\n",
       "      <td>-0.062419</td>\n",
       "      <td>0.124090</td>\n",
       "    </tr>\n",
       "    <tr>\n",
       "      <th>volatile acidity</th>\n",
       "      <td>-0.255955</td>\n",
       "      <td>1.000000</td>\n",
       "      <td>-0.552080</td>\n",
       "      <td>0.002286</td>\n",
       "      <td>0.061452</td>\n",
       "      <td>-0.009960</td>\n",
       "      <td>0.076832</td>\n",
       "      <td>0.021761</td>\n",
       "      <td>-0.046243</td>\n",
       "      <td>-0.260504</td>\n",
       "      <td>-0.201591</td>\n",
       "      <td>-0.390616</td>\n",
       "    </tr>\n",
       "    <tr>\n",
       "      <th>citric acid</th>\n",
       "      <td>0.672203</td>\n",
       "      <td>-0.552080</td>\n",
       "      <td>1.000000</td>\n",
       "      <td>0.143201</td>\n",
       "      <td>0.203904</td>\n",
       "      <td>-0.061621</td>\n",
       "      <td>0.034873</td>\n",
       "      <td>0.365526</td>\n",
       "      <td>0.008324</td>\n",
       "      <td>0.312146</td>\n",
       "      <td>0.109062</td>\n",
       "      <td>0.226261</td>\n",
       "    </tr>\n",
       "    <tr>\n",
       "      <th>residual sugar</th>\n",
       "      <td>0.115542</td>\n",
       "      <td>0.002286</td>\n",
       "      <td>0.143201</td>\n",
       "      <td>1.000000</td>\n",
       "      <td>0.056236</td>\n",
       "      <td>0.187112</td>\n",
       "      <td>0.201120</td>\n",
       "      <td>0.355219</td>\n",
       "      <td>0.043099</td>\n",
       "      <td>0.004105</td>\n",
       "      <td>0.041798</td>\n",
       "      <td>0.015165</td>\n",
       "    </tr>\n",
       "    <tr>\n",
       "      <th>chlorides</th>\n",
       "      <td>0.093517</td>\n",
       "      <td>0.061452</td>\n",
       "      <td>0.203904</td>\n",
       "      <td>0.056236</td>\n",
       "      <td>1.000000</td>\n",
       "      <td>0.005456</td>\n",
       "      <td>0.047837</td>\n",
       "      <td>0.200860</td>\n",
       "      <td>-0.259456</td>\n",
       "      <td>0.371510</td>\n",
       "      <td>-0.221472</td>\n",
       "      <td>-0.129172</td>\n",
       "    </tr>\n",
       "    <tr>\n",
       "      <th>free sulfur dioxide</th>\n",
       "      <td>-0.154348</td>\n",
       "      <td>-0.009960</td>\n",
       "      <td>-0.061621</td>\n",
       "      <td>0.187112</td>\n",
       "      <td>0.005456</td>\n",
       "      <td>1.000000</td>\n",
       "      <td>0.668505</td>\n",
       "      <td>-0.021797</td>\n",
       "      <td>-0.025512</td>\n",
       "      <td>0.051200</td>\n",
       "      <td>-0.070222</td>\n",
       "      <td>-0.050656</td>\n",
       "    </tr>\n",
       "    <tr>\n",
       "      <th>total sulfur dioxide</th>\n",
       "      <td>-0.112605</td>\n",
       "      <td>0.076832</td>\n",
       "      <td>0.034873</td>\n",
       "      <td>0.201120</td>\n",
       "      <td>0.047837</td>\n",
       "      <td>0.668505</td>\n",
       "      <td>1.000000</td>\n",
       "      <td>0.070830</td>\n",
       "      <td>-0.162984</td>\n",
       "      <td>0.042082</td>\n",
       "      <td>-0.205951</td>\n",
       "      <td>-0.184857</td>\n",
       "    </tr>\n",
       "    <tr>\n",
       "      <th>density</th>\n",
       "      <td>0.668689</td>\n",
       "      <td>0.021761</td>\n",
       "      <td>0.365526</td>\n",
       "      <td>0.355219</td>\n",
       "      <td>0.200860</td>\n",
       "      <td>-0.021797</td>\n",
       "      <td>0.070830</td>\n",
       "      <td>1.000000</td>\n",
       "      <td>-0.037144</td>\n",
       "      <td>0.148561</td>\n",
       "      <td>-0.496244</td>\n",
       "      <td>-0.174567</td>\n",
       "    </tr>\n",
       "    <tr>\n",
       "      <th>pH</th>\n",
       "      <td>0.026958</td>\n",
       "      <td>-0.046243</td>\n",
       "      <td>0.008324</td>\n",
       "      <td>0.043099</td>\n",
       "      <td>-0.259456</td>\n",
       "      <td>-0.025512</td>\n",
       "      <td>-0.162984</td>\n",
       "      <td>-0.037144</td>\n",
       "      <td>1.000000</td>\n",
       "      <td>-0.260327</td>\n",
       "      <td>0.233510</td>\n",
       "      <td>0.133216</td>\n",
       "    </tr>\n",
       "    <tr>\n",
       "      <th>sulphates</th>\n",
       "      <td>0.183046</td>\n",
       "      <td>-0.260504</td>\n",
       "      <td>0.312146</td>\n",
       "      <td>0.004105</td>\n",
       "      <td>0.371510</td>\n",
       "      <td>0.051200</td>\n",
       "      <td>0.042082</td>\n",
       "      <td>0.148561</td>\n",
       "      <td>-0.260327</td>\n",
       "      <td>1.000000</td>\n",
       "      <td>0.092940</td>\n",
       "      <td>0.251798</td>\n",
       "    </tr>\n",
       "    <tr>\n",
       "      <th>alcohol</th>\n",
       "      <td>-0.062419</td>\n",
       "      <td>-0.201591</td>\n",
       "      <td>0.109062</td>\n",
       "      <td>0.041798</td>\n",
       "      <td>-0.221472</td>\n",
       "      <td>-0.070222</td>\n",
       "      <td>-0.205951</td>\n",
       "      <td>-0.496244</td>\n",
       "      <td>0.233510</td>\n",
       "      <td>0.092940</td>\n",
       "      <td>1.000000</td>\n",
       "      <td>0.476565</td>\n",
       "    </tr>\n",
       "    <tr>\n",
       "      <th>quality</th>\n",
       "      <td>0.124090</td>\n",
       "      <td>-0.390616</td>\n",
       "      <td>0.226261</td>\n",
       "      <td>0.015165</td>\n",
       "      <td>-0.129172</td>\n",
       "      <td>-0.050656</td>\n",
       "      <td>-0.184857</td>\n",
       "      <td>-0.174567</td>\n",
       "      <td>0.133216</td>\n",
       "      <td>0.251798</td>\n",
       "      <td>0.476565</td>\n",
       "      <td>1.000000</td>\n",
       "    </tr>\n",
       "  </tbody>\n",
       "</table>\n",
       "</div>"
      ],
      "text/plain": [
       "                      fixed acidity  volatile acidity  citric acid  \\\n",
       "fixed acidity              1.000000         -0.255955     0.672203   \n",
       "volatile acidity          -0.255955          1.000000    -0.552080   \n",
       "citric acid                0.672203         -0.552080     1.000000   \n",
       "residual sugar             0.115542          0.002286     0.143201   \n",
       "chlorides                  0.093517          0.061452     0.203904   \n",
       "free sulfur dioxide       -0.154348         -0.009960    -0.061621   \n",
       "total sulfur dioxide      -0.112605          0.076832     0.034873   \n",
       "density                    0.668689          0.021761     0.365526   \n",
       "pH                         0.026958         -0.046243     0.008324   \n",
       "sulphates                  0.183046         -0.260504     0.312146   \n",
       "alcohol                   -0.062419         -0.201591     0.109062   \n",
       "quality                    0.124090         -0.390616     0.226261   \n",
       "\n",
       "                      residual sugar  chlorides  free sulfur dioxide  \\\n",
       "fixed acidity               0.115542   0.093517            -0.154348   \n",
       "volatile acidity            0.002286   0.061452            -0.009960   \n",
       "citric acid                 0.143201   0.203904            -0.061621   \n",
       "residual sugar              1.000000   0.056236             0.187112   \n",
       "chlorides                   0.056236   1.000000             0.005456   \n",
       "free sulfur dioxide         0.187112   0.005456             1.000000   \n",
       "total sulfur dioxide        0.201120   0.047837             0.668505   \n",
       "density                     0.355219   0.200860            -0.021797   \n",
       "pH                          0.043099  -0.259456            -0.025512   \n",
       "sulphates                   0.004105   0.371510             0.051200   \n",
       "alcohol                     0.041798  -0.221472            -0.070222   \n",
       "quality                     0.015165  -0.129172            -0.050656   \n",
       "\n",
       "                      total sulfur dioxide   density        pH  sulphates  \\\n",
       "fixed acidity                    -0.112605  0.668689  0.026958   0.183046   \n",
       "volatile acidity                  0.076832  0.021761 -0.046243  -0.260504   \n",
       "citric acid                       0.034873  0.365526  0.008324   0.312146   \n",
       "residual sugar                    0.201120  0.355219  0.043099   0.004105   \n",
       "chlorides                         0.047837  0.200860 -0.259456   0.371510   \n",
       "free sulfur dioxide               0.668505 -0.021797 -0.025512   0.051200   \n",
       "total sulfur dioxide              1.000000  0.070830 -0.162984   0.042082   \n",
       "density                           0.070830  1.000000 -0.037144   0.148561   \n",
       "pH                               -0.162984 -0.037144  1.000000  -0.260327   \n",
       "sulphates                         0.042082  0.148561 -0.260327   1.000000   \n",
       "alcohol                          -0.205951 -0.496244  0.233510   0.092940   \n",
       "quality                          -0.184857 -0.174567  0.133216   0.251798   \n",
       "\n",
       "                       alcohol   quality  \n",
       "fixed acidity        -0.062419  0.124090  \n",
       "volatile acidity     -0.201591 -0.390616  \n",
       "citric acid           0.109062  0.226261  \n",
       "residual sugar        0.041798  0.015165  \n",
       "chlorides            -0.221472 -0.129172  \n",
       "free sulfur dioxide  -0.070222 -0.050656  \n",
       "total sulfur dioxide -0.205951 -0.184857  \n",
       "density              -0.496244 -0.174567  \n",
       "pH                    0.233510  0.133216  \n",
       "sulphates             0.092940  0.251798  \n",
       "alcohol               1.000000  0.476565  \n",
       "quality               0.476565  1.000000  "
      ]
     },
     "execution_count": 36,
     "metadata": {},
     "output_type": "execute_result"
    }
   ],
   "source": [
    "correlation = wine_dataset.corr()\n",
    "correlation"
   ]
  },
  {
   "cell_type": "code",
   "execution_count": 37,
   "id": "aafbf2e1",
   "metadata": {},
   "outputs": [
    {
     "data": {
      "text/plain": [
       "<AxesSubplot:>"
      ]
     },
     "execution_count": 37,
     "metadata": {},
     "output_type": "execute_result"
    },
    {
     "data": {
      "image/png": "[encoded data removed]",
      "text/plain": [
       "<Figure size 720x720 with 2 Axes>"
      ]
     },
     "metadata": {
      "needs_background": "light"
     },
     "output_type": "display_data"
    }
   ],
   "source": [
    "#constructing a heatmap to understand the correlation between the columns\n",
    "plt.figure(figsize=(10,10))\n",
    "sns.heatmap(correlation, cbar=True, square=True, fmt='.1f', annot=True, annot_kws={'size' : 8}, cmap = 'Blues') "
   ]
  },
  {
   "cell_type": "markdown",
   "id": "8d415772",
   "metadata": {},
   "source": [
    "## Data Preprocessing"
   ]
  },
  {
   "cell_type": "code",
   "execution_count": 38,
   "id": "3f6da02f",
   "metadata": {},
   "outputs": [
    {
     "data": {
      "text/html": [
       "<div>\n",
       "<style scoped>\n",
       "    .dataframe tbody tr th:only-of-type {\n",
       "        vertical-align: middle;\n",
       "    }\n",
       "\n",
       "    .dataframe tbody tr th {\n",
       "        vertical-align: top;\n",
       "    }\n",
       "\n",
       "    .dataframe thead th {\n",
       "        text-align: right;\n",
       "    }\n",
       "</style>\n",
       "<table border=\"1\" class=\"dataframe\">\n",
       "  <thead>\n",
       "    <tr style=\"text-align: right;\">\n",
       "      <th></th>\n",
       "      <th>fixed acidity</th>\n",
       "      <th>volatile acidity</th>\n",
       "      <th>citric acid</th>\n",
       "      <th>residual sugar</th>\n",
       "      <th>chlorides</th>\n",
       "      <th>free sulfur dioxide</th>\n",
       "      <th>total sulfur dioxide</th>\n",
       "      <th>density</th>\n",
       "      <th>pH</th>\n",
       "      <th>sulphates</th>\n",
       "      <th>alcohol</th>\n",
       "    </tr>\n",
       "  </thead>\n",
       "  <tbody>\n",
       "    <tr>\n",
       "      <th>0</th>\n",
       "      <td>7.4</td>\n",
       "      <td>0.70</td>\n",
       "      <td>0.00</td>\n",
       "      <td>1.9</td>\n",
       "      <td>0.076</td>\n",
       "      <td>11.0</td>\n",
       "      <td>34.0</td>\n",
       "      <td>0.9978</td>\n",
       "      <td>3.51</td>\n",
       "      <td>0.56</td>\n",
       "      <td>9.4</td>\n",
       "    </tr>\n",
       "    <tr>\n",
       "      <th>1</th>\n",
       "      <td>7.8</td>\n",
       "      <td>0.88</td>\n",
       "      <td>0.00</td>\n",
       "      <td>2.6</td>\n",
       "      <td>0.098</td>\n",
       "      <td>25.0</td>\n",
       "      <td>67.0</td>\n",
       "      <td>0.9968</td>\n",
       "      <td>3.20</td>\n",
       "      <td>0.68</td>\n",
       "      <td>9.8</td>\n",
       "    </tr>\n",
       "    <tr>\n",
       "      <th>2</th>\n",
       "      <td>7.8</td>\n",
       "      <td>0.76</td>\n",
       "      <td>0.04</td>\n",
       "      <td>2.3</td>\n",
       "      <td>0.092</td>\n",
       "      <td>15.0</td>\n",
       "      <td>54.0</td>\n",
       "      <td>0.9970</td>\n",
       "      <td>3.26</td>\n",
       "      <td>0.65</td>\n",
       "      <td>9.8</td>\n",
       "    </tr>\n",
       "    <tr>\n",
       "      <th>3</th>\n",
       "      <td>11.2</td>\n",
       "      <td>0.28</td>\n",
       "      <td>0.56</td>\n",
       "      <td>1.9</td>\n",
       "      <td>0.075</td>\n",
       "      <td>17.0</td>\n",
       "      <td>60.0</td>\n",
       "      <td>0.9980</td>\n",
       "      <td>3.16</td>\n",
       "      <td>0.58</td>\n",
       "      <td>9.8</td>\n",
       "    </tr>\n",
       "    <tr>\n",
       "      <th>4</th>\n",
       "      <td>7.4</td>\n",
       "      <td>0.70</td>\n",
       "      <td>0.00</td>\n",
       "      <td>1.9</td>\n",
       "      <td>0.076</td>\n",
       "      <td>11.0</td>\n",
       "      <td>34.0</td>\n",
       "      <td>0.9978</td>\n",
       "      <td>3.51</td>\n",
       "      <td>0.56</td>\n",
       "      <td>9.4</td>\n",
       "    </tr>\n",
       "  </tbody>\n",
       "</table>\n",
       "</div>"
      ],
      "text/plain": [
       "   fixed acidity  volatile acidity  citric acid  residual sugar  chlorides  \\\n",
       "0            7.4              0.70         0.00             1.9      0.076   \n",
       "1            7.8              0.88         0.00             2.6      0.098   \n",
       "2            7.8              0.76         0.04             2.3      0.092   \n",
       "3           11.2              0.28         0.56             1.9      0.075   \n",
       "4            7.4              0.70         0.00             1.9      0.076   \n",
       "\n",
       "   free sulfur dioxide  total sulfur dioxide  density    pH  sulphates  \\\n",
       "0                 11.0                  34.0   0.9978  3.51       0.56   \n",
       "1                 25.0                  67.0   0.9968  3.20       0.68   \n",
       "2                 15.0                  54.0   0.9970  3.26       0.65   \n",
       "3                 17.0                  60.0   0.9980  3.16       0.58   \n",
       "4                 11.0                  34.0   0.9978  3.51       0.56   \n",
       "\n",
       "   alcohol  \n",
       "0      9.4  \n",
       "1      9.8  \n",
       "2      9.8  \n",
       "3      9.8  \n",
       "4      9.4  "
      ]
     },
     "execution_count": 38,
     "metadata": {},
     "output_type": "execute_result"
    }
   ],
   "source": [
    "#seperate the data and label\n",
    "X = wine_dataset.drop('quality', axis = 1)\n",
    "X.head()"
   ]
  },
  {
   "cell_type": "markdown",
   "id": "27adad43",
   "metadata": {},
   "source": [
    "### Label binarization / encoding"
   ]
  },
  {
   "cell_type": "code",
   "execution_count": 39,
   "id": "37e8df54",
   "metadata": {},
   "outputs": [],
   "source": [
    "Y = wine_dataset['quality'].apply(lambda y_value: 1 if y_value>=7 else 0) # 1 : good wine, 0 : bad wine"
   ]
  },
  {
   "cell_type": "code",
   "execution_count": 40,
   "id": "bdfbe130",
   "metadata": {},
   "outputs": [
    {
     "data": {
      "text/plain": [
       "0    0\n",
       "1    0\n",
       "2    0\n",
       "3    0\n",
       "4    0\n",
       "Name: quality, dtype: int64"
      ]
     },
     "execution_count": 40,
     "metadata": {},
     "output_type": "execute_result"
    }
   ],
   "source": [
    "Y.head()"
   ]
  },
  {
   "cell_type": "markdown",
   "id": "4e578a5c",
   "metadata": {},
   "source": [
    "\n",
    "### Train and test split"
   ]
  },
  {
   "cell_type": "code",
   "execution_count": 64,
   "id": "1ec2e210",
   "metadata": {},
   "outputs": [],
   "source": [
    "X_train, X_test, Y_train, Y_test = train_test_split(X, Y, test_size=0.2, random_state=4)"
   ]
  },
  {
   "cell_type": "code",
   "execution_count": 65,
   "id": "27c42a0e",
   "metadata": {},
   "outputs": [
    {
     "name": "stdout",
     "output_type": "stream",
     "text": [
      "(1596,) (1276,) (320,)\n"
     ]
    }
   ],
   "source": [
    "print(Y.shape, Y_train.shape, Y_test.shape)"
   ]
  },
  {
   "cell_type": "markdown",
   "id": "9136c35c",
   "metadata": {},
   "source": [
    "### Model Training:\n",
    "Random forest Classifier"
   ]
  },
  {
   "cell_type": "code",
   "execution_count": 66,
   "id": "c19886d8",
   "metadata": {},
   "outputs": [],
   "source": [
    "model = RandomForestClassifier()"
   ]
  },
  {
   "cell_type": "code",
   "execution_count": 74,
   "id": "c99497ce",
   "metadata": {},
   "outputs": [
    {
     "data": {
      "text/plain": [
       "RandomForestClassifier()"
      ]
     },
     "execution_count": 74,
     "metadata": {},
     "output_type": "execute_result"
    }
   ],
   "source": [
    "model.fit(X_train.values, Y_train.values)"
   ]
  },
  {
   "cell_type": "markdown",
   "id": "cef90241",
   "metadata": {},
   "source": [
    "### Model evaluation:\n",
    "Accuracy score"
   ]
  },
  {
   "cell_type": "code",
   "execution_count": 75,
   "id": "a6849c73",
   "metadata": {},
   "outputs": [],
   "source": [
    "#accuracy on test data\n",
    "X_test_prediction = model.predict(X_test.values)\n",
    "test_data_accuracy = accuracy_score(X_test_prediction, Y_test)"
   ]
  },
  {
   "cell_type": "code",
   "execution_count": 76,
   "id": "c6b67314",
   "metadata": {},
   "outputs": [
    {
     "name": "stdout",
     "output_type": "stream",
     "text": [
      "Accuracy :  0.9\n"
     ]
    }
   ],
   "source": [
    "print('Accuracy : ', test_data_accuracy)"
   ]
  },
  {
   "cell_type": "markdown",
   "id": "926dcecf",
   "metadata": {},
   "source": [
    "## Building a predictive system"
   ]
  },
  {
   "cell_type": "code",
   "execution_count": 78,
   "id": "8484f3f5",
   "metadata": {},
   "outputs": [
    {
     "name": "stdout",
     "output_type": "stream",
     "text": [
      "[1]\n",
      "Good quality wine\n"
     ]
    }
   ],
   "source": [
    "input_data = (8.5,0.28,0.56,1.8,0.092,35,103,0.9969,3.3,0.75,10.5)\n",
    "\n",
    "#changing the input data to a numpy array\n",
    "input_data_as_nparray = np.asarray(input_data)\n",
    "\n",
    "#reshape the data as we are predicting the label for only one instance\n",
    "input_data_reshaped = input_data_as_nparray.reshape(1, -1)\n",
    "\n",
    "prediction = model.predict(input_data_reshaped)\n",
    "print(prediction) #label should be 1\n",
    "\n",
    "if prediction[0]==1:\n",
    "    print('Good quality wine')\n",
    "else:\n",
    "    print('Bad quality wine')"
   ]
  },
  {
   "cell_type": "code",
   "execution_count": null,
   "id": "3003ccba",
   "metadata": {},
   "outputs": [],
   "source": []
  }
 ],
 "metadata": {
  "kernelspec": {
   "display_name": "Python 3 (ipykernel)",
   "language": "python",
   "name": "python3"
  },
  "language_info": {
   "codemirror_mode": {
    "name": "ipython",
    "version": 3
   },
   "file_extension": ".py",
   "mimetype": "text/x-python",
   "name": "python",
   "nbconvert_exporter": "python",
   "pygments_lexer": "ipython3",
   "version": "3.9.12"
  }
 },
 "nbformat": 4,
 "nbformat_minor": 5
}
